{
 "cells": [
  {
   "cell_type": "code",
   "execution_count": 6,
   "id": "df63506d",
   "metadata": {},
   "outputs": [
    {
     "name": "stdout",
     "output_type": "stream",
     "text": [
      "Twinkle, twinkle, little star, \n",
      "\tHow I wonder what you are! \n",
      "\t\tUp above the world so high, \n",
      "\t\tLike a diamond in the sky. \n",
      "Twinkle, twinkle, little star, \n",
      "\tHow I wonder what you are\n"
     ]
    }
   ],
   "source": [
    "                                            #QUESTION 1:\n",
    "print(\"Twinkle, twinkle, little star, \\n\\tHow I wonder what you are! \\n\\t\\tUp above the world so high, \\n\\t\\tLike a diamond in the sky. \\nTwinkle, twinkle, little star, \\n\\tHow I wonder what you are\")"
   ]
  },
  {
   "cell_type": "code",
   "execution_count": 7,
   "id": "ffc49d13",
   "metadata": {},
   "outputs": [
    {
     "name": "stdout",
     "output_type": "stream",
     "text": [
      "Python version\n",
      "3.8.8 (default, Apr 13 2021, 15:08:03) [MSC v.1916 64 bit (AMD64)]\n",
      "Version info.\n",
      "sys.version_info(major=3, minor=8, micro=8, releaselevel='final', serial=0)\n"
     ]
    }
   ],
   "source": [
    "                                            #QUESTION 2:\n",
    "import sys\n",
    "print(\"Python version\")\n",
    "print (sys.version)\n",
    "print(\"Version info.\")\n",
    "print (sys.version_info)"
   ]
  },
  {
   "cell_type": "code",
   "execution_count": 8,
   "id": "817e9dc5",
   "metadata": {},
   "outputs": [
    {
     "name": "stdout",
     "output_type": "stream",
     "text": [
      "Current date and time : \n",
      "2021-10-22 01:18:29\n"
     ]
    }
   ],
   "source": [
    "                                            #QUESTION 3:\n",
    "import datetime\n",
    "now = datetime.datetime.now()\n",
    "print (\"Current date and time : \")\n",
    "print (now.strftime(\"%Y-%m-%d %H:%M:%S\"))"
   ]
  },
  {
   "cell_type": "code",
   "execution_count": 9,
   "id": "411f9b84",
   "metadata": {},
   "outputs": [
    {
     "name": "stdout",
     "output_type": "stream",
     "text": [
      "Input the radius of the circle : 34\n",
      "The area of the circle with radius 34.0 is: 3631.681107549801\n"
     ]
    }
   ],
   "source": [
    "                                            #QUESTION 4:\n",
    "from math import pi\n",
    "r = float(input (\"Input the radius of the circle : \"))\n",
    "print (\"The area of the circle with radius \" + str(r) + \" is: \" + str(pi * r**2))\n"
   ]
  },
  {
   "cell_type": "code",
   "execution_count": 10,
   "id": "7003a5d4",
   "metadata": {},
   "outputs": [
    {
     "name": "stdout",
     "output_type": "stream",
     "text": [
      "Input your First Name : Samara\n",
      "Input your Last Name : Mohsin\n",
      "Hello  Mohsin Samara\n"
     ]
    }
   ],
   "source": [
    "                                            #QUESTION 5:\n",
    "fname = input(\"Input your First Name : \")\n",
    "lname = input(\"Input your Last Name : \")\n",
    "print (\"Hello  \" + lname + \" \" + fname)\n",
    "\n"
   ]
  },
  {
   "cell_type": "code",
   "execution_count": 11,
   "id": "73b38229",
   "metadata": {},
   "outputs": [
    {
     "name": "stdout",
     "output_type": "stream",
     "text": [
      "Enter the first number: 456\n",
      "Enter the second number: 32\n",
      "the addition of the given numbers is:  488\n"
     ]
    }
   ],
   "source": [
    "                                            #QUESTION 6:\n",
    "            #Write a python program which takes two inputs from user and print them addition\n",
    "first_inp=int(input(\"Enter the first number: \"))\n",
    "second_inp=int(input(\"Enter the second number: \"))\n",
    "result=first_inp+second_inp\n",
    "print(\"the addition of the given numbers is: \",result)"
   ]
  },
  {
   "cell_type": "code",
   "execution_count": 12,
   "id": "d03023e0",
   "metadata": {},
   "outputs": [
    {
     "name": "stdout",
     "output_type": "stream",
     "text": [
      "Enter English marks: 78\n",
      "Enter Urdu marks: 89\n",
      "Enter Science marks: 95\n",
      "Enter Maths marks: 98\n",
      "Enter Islamiat marks: 99\n",
      "\t\t\t Marksheet\n",
      "you scored 78.0 in English\n",
      "you scored 89.0 in Urdu\n",
      "you scored 95.0 in Science\n",
      "you scored 98.0 in Maths\n",
      "you scored 99.0 in Islamiat\n",
      "Grade: A-One '\n",
      "' Remarks:Excellent\n"
     ]
    }
   ],
   "source": [
    "                                            #QUESTION 7:\n",
    "# Write a program which takes 5 inputs from user for different subject’s marks, total it and generate mark sheet using grades\n",
    "eng_marks=float(input(\"Enter English marks: \"))\n",
    "Urdu_marks=float(input(\"Enter Urdu marks: \"))\n",
    "Science_marks=float(input(\"Enter Science marks: \"))\n",
    "Maths_marks=float(input(\"Enter Maths marks: \"))\n",
    "Islamiat_marks=float(input(\"Enter Islamiat marks: \"))\n",
    "\n",
    "print('\\t\\t\\t Marksheet')\n",
    "print('you scored',eng_marks,'in English')\n",
    "print('you scored',Urdu_marks,'in Urdu')\n",
    "print('you scored',Science_marks,'in Science')\n",
    "print('you scored',Maths_marks,'in Maths')\n",
    "print('you scored',Islamiat_marks,'in Islamiat')\n",
    "\n",
    "avg=(eng_marks+Urdu_marks+Science_marks+Maths_marks+Islamiat_marks)/5\n",
    "if(avg>=90):\n",
    "    print(\"Grade: A-One '\\n' Remarks:Excellent\")\n",
    "elif(avg>=80 and avg<90):\n",
    "    print(\"Grade: A '\\n' Remarks:Good keep it up!\")\n",
    "elif(avg>=70 and avg<80):\n",
    "    print(\"Grade: B Remarks: satsfactory\")\n",
    "elif(avg>=60 and avg<70):\n",
    "    print(\"Grade: C Remarks: not satsfactory\")\n",
    "else:\n",
    "    print(\"Grade: D Remarks: fail\")"
   ]
  },
  {
   "cell_type": "code",
   "execution_count": 13,
   "id": "9c5b6dc2",
   "metadata": {},
   "outputs": [
    {
     "name": "stdout",
     "output_type": "stream",
     "text": [
      "Enter the number: 76\n",
      "the number you entered is even\n"
     ]
    }
   ],
   "source": [
    "                                        #QUESTION 8:\n",
    "# Write a program which take input from user and identify that the given number is even or odd? \n",
    "\n",
    "num=int(input(\"Enter the number: \"))\n",
    "if num%2==0:\n",
    "    print(\"the number you entered is even\")\n",
    "else:\n",
    "    print(\"the number you entered is odd\")"
   ]
  },
  {
   "cell_type": "code",
   "execution_count": 5,
   "id": "7c432378",
   "metadata": {},
   "outputs": [
    {
     "name": "stdout",
     "output_type": "stream",
     "text": [
      "how many numbers you want to add in list: 4\n",
      "Enter the number: 89\n",
      "Enter the number: 9065\n",
      "Enter the number: 9.897\n",
      "Enter the number: 4320\n",
      "[89.0, 9065.0, 9.897, 4320.0]\n",
      "the length of the list is fond to be:  4\n"
     ]
    }
   ],
   "source": [
    "#QUESTION 9\n",
    "#Write a program which print the length of the list\n",
    "\n",
    "a=int(input(\"how many numbers you want to add in list: \"))\n",
    "l=[]\n",
    "for i in range(1,a+1):\n",
    "        b=float(input(\"Enter the number: \"))\n",
    "        l.append(b)\n",
    "print(l)\n",
    "print(\"the length of the list is fond to be: \",len(l))"
   ]
  },
  {
   "cell_type": "code",
   "execution_count": 2,
   "id": "10c9ca11",
   "metadata": {},
   "outputs": [
    {
     "name": "stdout",
     "output_type": "stream",
     "text": [
      "how many numbers you want to add in list: 5\n",
      "Enter the number: 45\n",
      "Enter the number: 67\n",
      "Enter the number: 10000\n",
      "Enter the number: 7.9\n",
      "Enter the number: 5\n",
      "[45.0, 67.0, 10000.0, 7.9, 5.0]\n",
      "the sum of the list is fond to be:  10124.9\n"
     ]
    }
   ],
   "source": [
    "#QUESTION 10\n",
    "#Write a Python program to sum all the numeric items in a list? \n",
    "a=int(input(\"how many numbers you want to add in list: \"))\n",
    "l=[]\n",
    "for i in range(1,a+1):\n",
    "        b=float(input(\"Enter the number: \"))\n",
    "        l.append(b)\n",
    "print(l)\n",
    "print(\"the sum of the list is fond to be: \",sum(l))\n"
   ]
  },
  {
   "cell_type": "code",
   "execution_count": 3,
   "id": "a255dc31",
   "metadata": {},
   "outputs": [
    {
     "name": "stdout",
     "output_type": "stream",
     "text": [
      "how many numbers you want to add in list: 6\n",
      "Enter the number: 4567\n",
      "Enter the number: 23\n",
      "Enter the number: 45\n",
      "Enter the number: 12\n",
      "Enter the number: 50000.8\n",
      "Enter the number: 567903\n",
      "[4567.0, 23.0, 45.0, 12.0, 50000.8, 567903.0]\n",
      "the maximum number of the list is fond to be:  567903.0\n"
     ]
    }
   ],
   "source": [
    "#QUESTION 11\n",
    "#Write a Python program to get the largest number from a numeric list.  \n",
    "a=int(input(\"how many numbers you want to add in list: \"))\n",
    "l=[]\n",
    "for i in range(1,a+1):\n",
    "        b=float(input(\"Enter the number: \"))\n",
    "        l.append(b)\n",
    "print(l)\n",
    "print(\"the maximum number of the list is fond to be: \",max(l))"
   ]
  },
  {
   "cell_type": "code",
   "execution_count": 4,
   "id": "a8211916",
   "metadata": {},
   "outputs": [
    {
     "name": "stdout",
     "output_type": "stream",
     "text": [
      "1\n",
      "1\n",
      "2\n",
      "3\n"
     ]
    }
   ],
   "source": [
    "#QUESTION 12\n",
    "# Take a list, say for example this one:  \n",
    "#a = [1, 1, 2, 3, 5, 8, 13, 21, 34, 55, 89]  Write a program that prints out all the elements of the list that are less than 5.\n",
    "\n",
    "a = [1, 1, 2, 3, 5, 8, 13, 21, 34, 55, 89]\n",
    "\n",
    "for i in a:\n",
    "    if i<5:\n",
    "        print(i)\n",
    "    "
   ]
  },
  {
   "cell_type": "code",
   "execution_count": null,
   "id": "809d86df",
   "metadata": {},
   "outputs": [],
   "source": []
  },
  {
   "cell_type": "code",
   "execution_count": null,
   "id": "ac86b05c",
   "metadata": {},
   "outputs": [],
   "source": []
  }
 ],
 "metadata": {
  "kernelspec": {
   "display_name": "Python 3",
   "language": "python",
   "name": "python3"
  },
  "language_info": {
   "codemirror_mode": {
    "name": "ipython",
    "version": 3
   },
   "file_extension": ".py",
   "mimetype": "text/x-python",
   "name": "python",
   "nbconvert_exporter": "python",
   "pygments_lexer": "ipython3",
   "version": "3.8.8"
  }
 },
 "nbformat": 4,
 "nbformat_minor": 5
}
